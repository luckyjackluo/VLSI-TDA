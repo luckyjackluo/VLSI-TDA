{
 "cells": [
  {
   "cell_type": "code",
   "execution_count": 1,
   "id": "626b13c9",
   "metadata": {},
   "outputs": [
    {
     "name": "stderr",
     "output_type": "stream",
     "text": [
      "/home/zluo/anaconda3/lib/python3.9/site-packages/scipy/__init__.py:146: UserWarning: A NumPy version >=1.16.5 and <1.23.0 is required for this version of SciPy (detected version 1.23.3\n",
      "  warnings.warn(f\"A NumPy version >={np_minversion} and <{np_maxversion}\"\n"
     ]
    }
   ],
   "source": [
    "import numpy as np\n",
    "import pandas as pd\n",
    "import gudhi as gd\n",
    "import sys\n",
    "import matplotlib.pyplot as plt\n",
    "import networkx as nx\n",
    "from ripser import Rips\n",
    "import pickle\n",
    "import os\n",
    "from scipy.sparse import csgraph\n",
    "from scipy.sparse.linalg import eigs\n",
    "from scipy.sparse.linalg import svds\n",
    "from scipy.linalg import eigh\n",
    "import numpy as np"
   ]
  },
  {
   "cell_type": "code",
   "execution_count": 2,
   "id": "aed37ffa",
   "metadata": {},
   "outputs": [],
   "source": [
    "class Graph:\n",
    "    # Constructor\n",
    "    def __init__(self, edges, n):\n",
    " \n",
    "        # A list of lists to represent an adjacency list\n",
    "        self.adjList = [[] for _ in range(n)]\n",
    " \n",
    "        # add edges to the directed graph\n",
    "        for (source, dest, weight) in edges:\n",
    "            self.adjList[source].append((dest, weight))\n",
    " \n",
    " \n",
    "# Perform DFS on the graph and set the departure time of all\n",
    "# vertices of the graph\n",
    "def DFS(graph, v, discovered, departure, time):\n",
    "    # mark the current node as discovered\n",
    "    discovered[v] = True\n",
    " \n",
    "    # set arrival time – not needed\n",
    "    # time = time + 1\n",
    " \n",
    "    # do for every edge (v, u)\n",
    "    for (u, w) in graph.adjList[v]:\n",
    "        # if `u` is not yet discovered\n",
    "        if not discovered[u]:\n",
    "            time = DFS(graph, u, discovered, departure, time)\n",
    " \n",
    "    # ready to backtrack\n",
    "    # set departure time of vertex `v`\n",
    "    departure[time] = v\n",
    "    time = time + 1\n",
    " \n",
    "    return time\n",
    " \n",
    "def findLongestDistance(graph, source, n):\n",
    "    # `departure` stores vertex number having its departure\n",
    "    # time equal to the index of it\n",
    "    departure = [-1] * n\n",
    " \n",
    "    # to keep track of whether a vertex is discovered or not\n",
    "    discovered = [False] * n\n",
    "    time = 0\n",
    " \n",
    "    # perform DFS on all undiscovered vertices\n",
    "    for i in range(n):\n",
    "        if not discovered[i]:\n",
    "            time = DFS(graph, i, discovered, departure, time)\n",
    " \n",
    "    cost = [sys.maxsize] * n\n",
    "    cost[source] = 0\n",
    " \n",
    "    # Process the vertices in topological order, i.e., in order\n",
    "    # of their decreasing departure time in DFS\n",
    "    for i in reversed(range(n)):\n",
    " \n",
    "        # for each vertex in topological order,\n",
    "        # relax the cost of its adjacent vertices\n",
    "        v = departure[i]\n",
    " \n",
    "        # edge from `v` to `u` having weight `w`\n",
    "        for (u, w) in graph.adjList[v]:\n",
    "            w = -w     # make edge weight negative\n",
    " \n",
    "            # if the distance to destination `u` can be shortened by\n",
    "            # taking edge (v, u), then update cost to the new lower value\n",
    "            if cost[v] != sys.maxsize and cost[v] + w < cost[u]:\n",
    "                cost[u] = cost[v] + w\n",
    " \n",
    "    dist = dict()\n",
    "    for i in range(n):\n",
    "        dist[i] = {-cost[i]}\n",
    "        \n",
    "    return dist"
   ]
  },
  {
   "cell_type": "code",
   "execution_count": null,
   "id": "cbffcadb",
   "metadata": {},
   "outputs": [],
   "source": [
    "col = col_row[0]\n",
    "row = col_row[1]\n",
    "edgs = np.array([col, row]).T\n",
    "all_dist_raw = []\n",
    "edgs_d = [(lst[0], lst[1], 1) for lst in edgs] \n",
    "n = len(np.unique(row + col))\n",
    "graph = Graph(edgs_d, n)\n",
    "for node in p_input: all_dist_raw.append(findLongestDistance(graph, node, n))\n",
    "\n",
    "# building the delay based dictionary\n",
    "delay_dict = all_dist_raw[0]\n",
    "delay_dict = {key: list(delay_dict[key]) for key in delay_dict.keys()}\n",
    "for dist in all_dist_raw[1:]:\n",
    "    for key in dist.keys(): \n",
    "        val = dist[key]\n",
    "        if key in delay_dict.keys():\n",
    "            delay_dict[key] = delay_dict[key] + list(val)\n",
    "        else:\n",
    "            delay_dict[key] = list(val)\n",
    "\n",
    "delay_dict = {key: max(delay_dict[key]) for key in delay_dict.keys()}"
   ]
  },
  {
   "cell_type": "code",
   "execution_count": 3,
   "id": "dbb944b9",
   "metadata": {},
   "outputs": [],
   "source": [
    "def d_eff(i, j):\n",
    "    eig_values = eig_all[0]\n",
    "    eig_vectors = eig_all[1]\n",
    "    \n",
    "    d_eff_2 = 0\n",
    "    for idx in range(len(eig_values)):\n",
    "        eig_value = np.real(eig_values[idx])\n",
    "        eig_vector = eig_vectors[:, idx]\n",
    "        if np.isclose(eig_value, 0):\n",
    "            continue\n",
    "        d_eff_2 += (1/eig_value)*((eig_vector[i] - eig_vector[j])**2)\n",
    "\n",
    "    return np.real(d_eff_2**(1/2))"
   ]
  },
  {
   "cell_type": "code",
   "execution_count": 36,
   "id": "83c4fa97",
   "metadata": {},
   "outputs": [],
   "source": [
    "#Test on several examples\n",
    "#example1:\n",
    "col_row = np.array([[1, 4], [1, 5], [2, 6], [2, 9], [3, 6], [4, 8], [4, 7], [5, 9], [8, 10], [9, 10], [6, 10]])\n",
    "col_row = col_row.T\n",
    "###\n",
    "col_row = col_row - 1"
   ]
  },
  {
   "cell_type": "code",
   "execution_count": 19,
   "id": "9c56a78b",
   "metadata": {},
   "outputs": [],
   "source": [
    "#example2:\n",
    "col_row = np.array([[0, 1], [0, 2], [1, 3], [1, 4], [2, 6], [4, 5], [4, 6], [6, 5], [5, 7]])\n",
    "col_row = col_row.T"
   ]
  },
  {
   "cell_type": "code",
   "execution_count": 39,
   "id": "45ebddad",
   "metadata": {},
   "outputs": [],
   "source": [
    "#example3:\n",
    "col_row = np.array([[0, 1], [0, 2], [1, 3], [1, 4], [2, 3], [2, 5], [3, 8], [5, 9], [3, 7], [4, 7], [4, 6], [8, 10], [10, 11], [9, 11]])\n",
    "col_row = col_row.T"
   ]
  },
  {
   "cell_type": "code",
   "execution_count": 42,
   "id": "fe731a4e",
   "metadata": {
    "scrolled": true
   },
   "outputs": [],
   "source": [
    "#example4:\n",
    "col_row = np.array([[0, 1], [0, 2], [1, 3], [3, 4], [4, 5], [6, 2]])\n",
    "col_row = col_row.T"
   ]
  },
  {
   "cell_type": "code",
   "execution_count": 5,
   "id": "abfd738d",
   "metadata": {
    "scrolled": false
   },
   "outputs": [
    {
     "data": {
      "text/plain": [
       "array([[0, 0, 1, 1, 2, 3, 3, 4, 7, 8, 5],\n",
       "       [3, 4, 5, 8, 5, 7, 6, 8, 9, 9, 9]])"
      ]
     },
     "execution_count": 5,
     "metadata": {},
     "output_type": "execute_result"
    }
   ],
   "source": [
    "col_row"
   ]
  },
  {
   "cell_type": "code",
   "execution_count": 43,
   "id": "81e575c9",
   "metadata": {
    "scrolled": true
   },
   "outputs": [],
   "source": [
    "# Building the Graph (undirected)\n",
    "edgelist = []\n",
    "for edge in col_row.T:\n",
    "    new_edge = (edge[0], edge[1])\n",
    "    edgelist.append(new_edge)\n",
    "    \n",
    "G = nx.DiGraph(edgelist)\n",
    "V = list(G.nodes())\n",
    "nodelist = [node for node in G.nodes]\n",
    "nodelist = sorted(nodelist)\n",
    "adj = nx.adjacency_matrix(G, nodelist=nodelist)\n",
    "\n",
    "idx_dict = {}\n",
    "for idx in range(len(nodelist)):\n",
    "    idx_dict[nodelist[idx]] = idx\n",
    "    \n",
    "global L\n",
    "L = csgraph.laplacian(adj)\n",
    "#example\n",
    "L = L.todense()\n",
    "w, v = eigh(L)\n",
    "\n",
    "global eig_all\n",
    "eig_all = (w, v)\n",
    "\n",
    "eig_v = [(np.real(w[idx]), v[idx]) for idx in range(len(w))]\n",
    "eig_v.sort(key = lambda x:x[0])\n",
    "\n",
    "x = [idx for idx in range(len(w))]\n",
    "y = [np.real(val[0]) for val in eig_v]\n",
    "\n",
    "p_input = []\n",
    "p_output = []\n",
    "col = col_row[0]\n",
    "row = col_row[1]\n",
    "\n",
    "for node in col:\n",
    "    if node not in row:\n",
    "        p_input.append(node)\n",
    "\n",
    "for node in row:\n",
    "    if node not in col:\n",
    "        p_output.append(node)\n",
    "        \n",
    "p_input = np.unique(np.array(p_input))\n",
    "p_output = np.unique(np.array(p_output))\n",
    "\n",
    "#####################################\n",
    "nn = sub_g.number_of_nodes()\n",
    "idx_dict = {list(sub_g.nodes)[idx]:idx for idx in range(nn)}\n",
    "all_dist_raw = []\n",
    "edgs_d = [(idx_dict[lst[0]], idx_dict[lst[1]], 1) for lst in edgs] \n",
    "n = nn\n",
    "graph = Graph(edgs_d, n)\n",
    "\n",
    "if len(p_input) == 1:\n",
    "    delay_dict = findLongestDistance(graph, idx_dict[s_n], n)\n",
    "    delay_dict = {key: delay_dict[key].pop() for key in delay_dict.keys()}\n",
    "\n",
    "else:\n",
    "    for node in p_input: all_dist_raw.append(findLongestDistance(graph, idx_dict[node], n))\n",
    "\n",
    "    # building the delay based dictionary\n",
    "    delay_dict = all_dist_raw[0]\n",
    "    delay_dict = {key: list(delay_dict[key]) for key in delay_dict.keys()}\n",
    "    for dist in all_dist_raw[1:]:\n",
    "        for key in dist.keys(): \n",
    "            val = dist[key]\n",
    "            if key in delay_dict.keys():\n",
    "                delay_dict[key] = delay_dict[key] + list(val)\n",
    "            else:\n",
    "                delay_dict[key] = list(val)\n",
    "\n",
    "    delay_dict = {key: max(delay_dict[key]) for key in delay_dict.keys()}\n",
    "##########################################\n",
    "d_lst = []\n",
    "for delay in range(max(delay_dict.values()) + 1):\n",
    "    delay_level_lst = []\n",
    "    for node in delay_dict.keys():\n",
    "        if delay_dict[node] == delay:\n",
    "            delay_level_lst.append(node)\n",
    "    \n",
    "    if len(delay_level_lst) == 0:\n",
    "        continue\n",
    "    d_lst.append(delay_level_lst)\n",
    "\n",
    "st = gd.SimplexTree()\n",
    "edgs = edgelist\n",
    "to_level = len(d_lst) # read the graph to a specific delay level\n",
    "\n",
    "for edg in edgs:\n",
    "    st.insert(edg)\n",
    "\n",
    "for delay in range(to_level):\n",
    "    nodes = d_lst[delay]\n",
    "    for node in nodes:\n",
    "        st.assign_filtration([node], delay)\n",
    "        \n",
    "st.extend_filtration()\n",
    "dgms = st.extended_persistence()"
   ]
  },
  {
   "cell_type": "code",
   "execution_count": null,
   "id": "18de6325",
   "metadata": {},
   "outputs": [],
   "source": [
    "er_new_dict = {}\n",
    "for v1 in V:\n",
    "    for v2 in V:\n",
    "        if v1 == v2:\n",
    "            continue\n",
    "        er_new_dict[(v1, v2)] = nx.resistance_distance(G, v1, v2)\n",
    "        \n",
    "\n",
    "er_edge_dict = {}\n",
    "for edge in edgelist:\n",
    "    er_edge_dict[edge] = nx.resistance_distance(G, edge[0], edge[1])"
   ]
  },
  {
   "cell_type": "code",
   "execution_count": null,
   "id": "9b8c5966",
   "metadata": {},
   "outputs": [],
   "source": [
    "#Don't touch\n",
    "edgs = np.array([col, row]).T\n",
    "all_dist_raw = []\n",
    "edgs_d = [(lst[0], lst[1], 1) for lst in edgs] \n",
    "n = len(G.nodes)\n",
    "graph = Graph(edgs_d, n)\n",
    "for node in p_input: all_dist_raw.append(findLongestDistance(graph, node, n))\n",
    "\n",
    "# building the delay based dictionary\n",
    "delay_dict = all_dist_raw[0]\n",
    "delay_dict = {key: list(delay_dict[key]) for key in delay_dict.keys()}\n",
    "for dist in all_dist_raw[1:]:\n",
    "    for key in dist.keys(): \n",
    "        val = dist[key]\n",
    "        if key in delay_dict.keys():\n",
    "            delay_dict[key] = delay_dict[key] + list(val)\n",
    "        else:\n",
    "            delay_dict[key] = list(val)\n",
    "\n",
    "delay_dict = {key: max(delay_dict[key]) for key in delay_dict.keys()}\n"
   ]
  },
  {
   "cell_type": "code",
   "execution_count": 33,
   "id": "318a3fb4",
   "metadata": {},
   "outputs": [
    {
     "data": {
      "text/plain": [
       "[{0: 0, 1: 1, 3: 2, 4: 2, 5: 4, 7: 4, 6: 3, 2: 1}]"
      ]
     },
     "execution_count": 33,
     "metadata": {},
     "output_type": "execute_result"
    }
   ],
   "source": [
    "all_dist_raw"
   ]
  },
  {
   "cell_type": "code",
   "execution_count": 34,
   "id": "102e0c1d",
   "metadata": {},
   "outputs": [
    {
     "data": {
      "text/plain": [
       "{0: 0, 1: 1, 3: 2, 4: 2, 5: 4, 7: 4, 6: 3, 2: 1}"
      ]
     },
     "execution_count": 34,
     "metadata": {},
     "output_type": "execute_result"
    }
   ],
   "source": [
    "delay_dict"
   ]
  },
  {
   "cell_type": "code",
   "execution_count": 44,
   "id": "458cd6e9",
   "metadata": {
    "scrolled": true
   },
   "outputs": [
    {
     "data": {
      "text/plain": [
       "[<matplotlib.lines.Line2D at 0x2b64ad3586a0>]"
      ]
     },
     "execution_count": 44,
     "metadata": {},
     "output_type": "execute_result"
    },
    {
     "data": {
      "image/png": "[encoded data removed]",
      "text/plain": [
       "<Figure size 432x288 with 1 Axes>"
      ]
     },
     "metadata": {
      "needs_background": "light"
     },
     "output_type": "display_data"
    }
   ],
   "source": [
    "plt.scatter([dgms[0][i][1][0] for i in range(len(dgms[0]))], [dgms[0][i][1][1] for i in range(len(dgms[0]))], color=\"blue\")\n",
    "plt.scatter([dgms[2][i][1][0] for i in range(len(dgms[2]))], [dgms[2][i][1][1] for i in range(len(dgms[2]))], color=\"blue\")\n",
    "plt.scatter([dgms[1][i][1][0] for i in range(len(dgms[1]))], [dgms[1][i][1][1] for i in range(len(dgms[1]))], color=\"orange\")\n",
    "plt.scatter([dgms[3][i][1][0] for i in range(len(dgms[3]))], [dgms[3][i][1][1] for i in range(len(dgms[3]))], color=\"orange\")\n",
    "plt.plot([0, to_level],[0,to_level])"
   ]
  },
  {
   "cell_type": "code",
   "execution_count": 10,
   "id": "e482e7e9",
   "metadata": {},
   "outputs": [
    {
     "data": {
      "text/plain": [
       "[[(0, (0.0, 1.9999999999999996))],\n",
       " [(1, (1.9999999999999996, 0.9999999999999998)),\n",
       "  (1, (1.9999999999999996, 0.9999999999999998))],\n",
       " [(0, (0.0, 3.0))],\n",
       " [(1, (3.0, 0.0)), (1, (3.0, 0.0))]]"
      ]
     },
     "execution_count": 10,
     "metadata": {},
     "output_type": "execute_result"
    }
   ],
   "source": [
    "dgms"
   ]
  },
  {
   "cell_type": "code",
   "execution_count": 16,
   "id": "58a3a7e6",
   "metadata": {},
   "outputs": [
    {
     "data": {
      "text/plain": [
       "matrix([[ 2,  0,  0, -1, -1,  0,  0,  0,  0,  0],\n",
       "        [ 0,  2,  0,  0,  0, -1,  0,  0, -1,  0],\n",
       "        [ 0,  0,  1,  0,  0, -1,  0,  0,  0,  0],\n",
       "        [-1,  0,  0,  3,  0,  0, -1, -1,  0,  0],\n",
       "        [-1,  0,  0,  0,  2,  0,  0,  0, -1,  0],\n",
       "        [ 0, -1, -1,  0,  0,  3,  0,  0,  0, -1],\n",
       "        [ 0,  0,  0, -1,  0,  0,  1,  0,  0,  0],\n",
       "        [ 0,  0,  0, -1,  0,  0,  0,  2,  0, -1],\n",
       "        [ 0, -1,  0,  0, -1,  0,  0,  0,  3, -1],\n",
       "        [ 0,  0,  0,  0,  0, -1,  0, -1, -1,  3]])"
      ]
     },
     "execution_count": 16,
     "metadata": {},
     "output_type": "execute_result"
    }
   ],
   "source": [
    "L"
   ]
  },
  {
   "cell_type": "code",
   "execution_count": null,
   "id": "7f2a31e3",
   "metadata": {},
   "outputs": [],
   "source": []
  },
  {
   "cell_type": "code",
   "execution_count": null,
   "id": "f1655986",
   "metadata": {},
   "outputs": [],
   "source": []
  },
  {
   "cell_type": "code",
   "execution_count": null,
   "id": "8cb43285",
   "metadata": {},
   "outputs": [],
   "source": []
  },
  {
   "cell_type": "code",
   "execution_count": 8,
   "id": "76e3e1cc",
   "metadata": {},
   "outputs": [
    {
     "data": {
      "text/plain": [
       "{(0, 3): 0.8260869565217384,\n",
       " (0, 4): 0.8260869565217389,\n",
       " (0, 1): 1.869565217391303,\n",
       " (0, 5): 1.9130434782608685,\n",
       " (0, 8): 1.304347826086956,\n",
       " (0, 2): 2.9130434782608683,\n",
       " (0, 7): 1.3043478260869554,\n",
       " (0, 6): 1.8260869565217388,\n",
       " (0, 9): 1.4347826086956517,\n",
       " (3, 0): 0.8260869565217389,\n",
       " (3, 4): 1.304347826086957,\n",
       " (3, 1): 1.9130434782608694,\n",
       " (3, 5): 1.8695652173913049,\n",
       " (3, 8): 1.4347826086956519,\n",
       " (3, 2): 2.8695652173913038,\n",
       " (3, 7): 0.826086956521739,\n",
       " (3, 6): 1.0000000000000002,\n",
       " (3, 9): 1.3043478260869565,\n",
       " (4, 0): 0.8260869565217392,\n",
       " (4, 3): 1.3043478260869568,\n",
       " (4, 1): 1.478260869565218,\n",
       " (4, 5): 1.6086956521739126,\n",
       " (4, 8): 0.826086956521739,\n",
       " (4, 2): 2.608695652173913,\n",
       " (4, 7): 1.4347826086956526,\n",
       " (4, 6): 2.3043478260869565,\n",
       " (4, 9): 1.2173913043478262,\n",
       " (1, 0): 1.869565217391303,\n",
       " (1, 3): 1.9130434782608683,\n",
       " (1, 4): 1.4782608695652169,\n",
       " (1, 5): 0.7391304347826082,\n",
       " (1, 8): 0.7391304347826084,\n",
       " (1, 2): 1.7391304347826084,\n",
       " (1, 7): 1.6086956521739126,\n",
       " (1, 6): 2.913043478260868,\n",
       " (1, 9): 0.9565217391304346,\n",
       " (5, 0): 1.913043478260869,\n",
       " (5, 3): 1.8695652173913042,\n",
       " (5, 4): 1.6086956521739124,\n",
       " (5, 1): 0.7391304347826084,\n",
       " (5, 8): 0.9565217391304346,\n",
       " (5, 2): 1.0000000000000002,\n",
       " (5, 7): 1.4782608695652173,\n",
       " (5, 6): 2.8695652173913038,\n",
       " (5, 9): 0.7391304347826088,\n",
       " (8, 0): 1.3043478260869565,\n",
       " (8, 3): 1.4347826086956523,\n",
       " (8, 4): 0.826086956521739,\n",
       " (8, 1): 0.739130434782609,\n",
       " (8, 5): 0.9565217391304349,\n",
       " (8, 2): 1.956521739130435,\n",
       " (8, 7): 1.2173913043478264,\n",
       " (8, 6): 2.434782608695653,\n",
       " (8, 9): 0.6521739130434782,\n",
       " (2, 0): 2.9130434782608647,\n",
       " (2, 3): 2.8695652173912998,\n",
       " (2, 4): 2.608695652173909,\n",
       " (2, 1): 1.7391304347826064,\n",
       " (2, 5): 0.9999999999999989,\n",
       " (2, 8): 1.9565217391304324,\n",
       " (2, 7): 2.4782608695652137,\n",
       " (2, 6): 3.8695652173912984,\n",
       " (2, 9): 1.7391304347826058,\n",
       " (7, 0): 1.3043478260869563,\n",
       " (7, 3): 0.8260869565217389,\n",
       " (7, 4): 1.4347826086956519,\n",
       " (7, 1): 1.608695652173913,\n",
       " (7, 5): 1.4782608695652177,\n",
       " (7, 8): 1.217391304347826,\n",
       " (7, 2): 2.478260869565217,\n",
       " (7, 6): 1.8260869565217384,\n",
       " (7, 9): 0.8260869565217397,\n",
       " (6, 0): 1.8260869565217384,\n",
       " (6, 3): 0.9999999999999989,\n",
       " (6, 4): 2.3043478260869548,\n",
       " (6, 1): 2.913043478260868,\n",
       " (6, 5): 2.869565217391302,\n",
       " (6, 8): 2.4347826086956506,\n",
       " (6, 2): 3.8695652173912998,\n",
       " (6, 7): 1.8260869565217368,\n",
       " (6, 9): 2.304347826086955,\n",
       " (9, 0): 1.434782608695651,\n",
       " (9, 3): 1.304347826086956,\n",
       " (9, 4): 1.217391304347825,\n",
       " (9, 1): 0.9565217391304346,\n",
       " (9, 5): 0.7391304347826084,\n",
       " (9, 8): 0.6521739130434778,\n",
       " (9, 2): 1.7391304347826078,\n",
       " (9, 7): 0.8260869565217389,\n",
       " (9, 6): 2.3043478260869557}"
      ]
     },
     "execution_count": 8,
     "metadata": {},
     "output_type": "execute_result"
    }
   ],
   "source": [
    "er_new_dict"
   ]
  },
  {
   "cell_type": "code",
   "execution_count": 19,
   "id": "5fbf6f1e",
   "metadata": {},
   "outputs": [
    {
     "data": {
      "text/plain": [
       "[<matplotlib.lines.Line2D at 0x2b37d4c79610>]"
      ]
     },
     "execution_count": 19,
     "metadata": {},
     "output_type": "execute_result"
    },
    {
     "data": {
      "image/png": "[encoded data removed]",
      "text/plain": [
       "<Figure size 432x288 with 1 Axes>"
      ]
     },
     "metadata": {
      "needs_background": "light"
     },
     "output_type": "display_data"
    }
   ],
   "source": [
    "plt.plot(x, y)"
   ]
  },
  {
   "cell_type": "code",
   "execution_count": null,
   "id": "5cb3200e",
   "metadata": {},
   "outputs": [],
   "source": []
  }
 ],
 "metadata": {
  "kernelspec": {
   "display_name": "Python 3 (ipykernel)",
   "language": "python",
   "name": "python3"
  },
  "language_info": {
   "codemirror_mode": {
    "name": "ipython",
    "version": 3
   },
   "file_extension": ".py",
   "mimetype": "text/x-python",
   "name": "python",
   "nbconvert_exporter": "python",
   "pygments_lexer": "ipython3",
   "version": "3.9.7"
  }
 },
 "nbformat": 4,
 "nbformat_minor": 5
}
